{
  "nbformat": 4,
  "nbformat_minor": 0,
  "metadata": {
    "kernelspec": {
      "display_name": "Python 3",
      "language": "python",
      "name": "python3"
    },
    "language_info": {
      "codemirror_mode": {
        "name": "ipython",
        "version": 3
      },
      "file_extension": ".py",
      "mimetype": "text/x-python",
      "name": "python",
      "nbconvert_exporter": "python",
      "pygments_lexer": "ipython3",
      "version": "3.7.4"
    },
    "colab": {
      "name": "Hierarchical Clustering - Universities .ipynb",
      "provenance": [],
      "collapsed_sections": [],
      "include_colab_link": true
    }
  },
  "cells": [
    {
      "cell_type": "markdown",
      "metadata": {
        "id": "view-in-github",
        "colab_type": "text"
      },
      "source": [
        "<a href=\"https://colab.research.google.com/github/Manu-Gr/Heirarchical-Clustering-or-Aglomerative-Clustering---Universities-Dataset/blob/main/Hierarchical_Clustering_Universities_.ipynb\" target=\"_parent\"><img src=\"https://colab.research.google.com/assets/colab-badge.svg\" alt=\"Open In Colab\"/></a>"
      ]
    },
    {
      "cell_type": "code",
      "metadata": {
        "id": "Hgt8MvqjgTQk"
      },
      "source": [
        "# import hierarchical clustering libraries\n",
        "import scipy.cluster.hierarchy as sch\n",
        "from sklearn.cluster import AgglomerativeClustering\n",
        "import numpy as np\n",
        "import pandas as pd\n",
        "from matplotlib import pyplot as plt\n",
        "from sklearn.preprocessing import normalize"
      ],
      "execution_count": null,
      "outputs": []
    },
    {
      "cell_type": "code",
      "metadata": {
        "id": "rxiMfEKpgTQm"
      },
      "source": [
        "Univ = pd.read_csv(\"Universities.csv\")"
      ],
      "execution_count": null,
      "outputs": []
    },
    {
      "cell_type": "code",
      "metadata": {
        "id": "c0yRvtGZgTQm"
      },
      "source": [
        "# Normalization function \n",
        "def norm_func(i):\n",
        "    x = (i-i.min())/(i.max()-i.min())\n",
        "    return (x)"
      ],
      "execution_count": null,
      "outputs": []
    },
    {
      "cell_type": "code",
      "metadata": {
        "id": "Py-gRiivgTQn"
      },
      "source": [
        "# Normalized data frame (considering the numerical part of data)\n",
        "df_norm = norm_func(Univ.iloc[:,1:])"
      ],
      "execution_count": null,
      "outputs": []
    },
    {
      "cell_type": "code",
      "metadata": {
        "colab": {
          "base_uri": "https://localhost:8080/",
          "height": 271
        },
        "id": "Jg2AiL3ngTQn",
        "outputId": "40009eb2-1eb3-4d67-ba7e-95877078ea57"
      },
      "source": [
        "# create dendrogram\n",
        "dendrogram = sch.dendrogram(sch.linkage(df_norm, method='average'))"
      ],
      "execution_count": null,
      "outputs": [
        {
          "output_type": "display_data",
          "data": {
            "image/png": "[encoded data removed]",
            "text/plain": [
              "<Figure size 432x288 with 1 Axes>"
            ]
          },
          "metadata": {
            "needs_background": "light"
          }
        }
      ]
    },
    {
      "cell_type": "code",
      "metadata": {
        "id": "vyR9L0TwgTQo",
        "colab": {
          "base_uri": "https://localhost:8080/"
        },
        "outputId": "f9acbd31-ecd6-4262-c612-9034eb837421"
      },
      "source": [
        "# create clusters\n",
        "hclusters = AgglomerativeClustering(n_clusters=5, affinity = 'euclidean', linkage = 'ward')\n",
        "hclusters"
      ],
      "execution_count": null,
      "outputs": [
        {
          "output_type": "execute_result",
          "data": {
            "text/plain": [
              "AgglomerativeClustering(n_clusters=5)"
            ]
          },
          "metadata": {},
          "execution_count": 3
        }
      ]
    },
    {
      "cell_type": "code",
      "metadata": {
        "id": "THrDK12UgTQo",
        "colab": {
          "base_uri": "https://localhost:8080/",
          "height": 200
        },
        "outputId": "4e67ec6d-43d9-4483-ee4f-9355bbea56f0"
      },
      "source": [
        "\n",
        "y=pd.DataFrame(hclusters.fit_predict(df_norm),columns=['clustersid'])\n",
        "y['clustersid'].value_counts()"
      ],
      "execution_count": null,
      "outputs": [
        {
          "output_type": "error",
          "ename": "NameError",
          "evalue": "ignored",
          "traceback": [
            "\u001b[0;31m---------------------------------------------------------------------------\u001b[0m",
            "\u001b[0;31mNameError\u001b[0m                                 Traceback (most recent call last)",
            "\u001b[0;32m<ipython-input-5-09b4d8a64f09>\u001b[0m in \u001b[0;36m<module>\u001b[0;34m()\u001b[0m\n\u001b[1;32m      1\u001b[0m \u001b[0;34m\u001b[0m\u001b[0m\n\u001b[0;32m----> 2\u001b[0;31m \u001b[0my\u001b[0m\u001b[0;34m=\u001b[0m\u001b[0mpd\u001b[0m\u001b[0;34m.\u001b[0m\u001b[0mDataFrame\u001b[0m\u001b[0;34m(\u001b[0m\u001b[0mhclusters\u001b[0m\u001b[0;34m.\u001b[0m\u001b[0mfit_predict\u001b[0m\u001b[0;34m(\u001b[0m\u001b[0mdf_norm\u001b[0m\u001b[0;34m)\u001b[0m\u001b[0;34m,\u001b[0m\u001b[0mcolumns\u001b[0m\u001b[0;34m=\u001b[0m\u001b[0;34m[\u001b[0m\u001b[0;34m'clustersid'\u001b[0m\u001b[0;34m]\u001b[0m\u001b[0;34m)\u001b[0m\u001b[0;34m\u001b[0m\u001b[0;34m\u001b[0m\u001b[0m\n\u001b[0m\u001b[1;32m      3\u001b[0m \u001b[0my\u001b[0m\u001b[0;34m[\u001b[0m\u001b[0;34m'clustersid'\u001b[0m\u001b[0;34m]\u001b[0m\u001b[0;34m.\u001b[0m\u001b[0mvalue_counts\u001b[0m\u001b[0;34m(\u001b[0m\u001b[0;34m)\u001b[0m\u001b[0;34m\u001b[0m\u001b[0;34m\u001b[0m\u001b[0m\n",
            "\u001b[0;31mNameError\u001b[0m: name 'df_norm' is not defined"
          ]
        }
      ]
    },
    {
      "cell_type": "code",
      "metadata": {
        "id": "WzrQU-MAgTQp"
      },
      "source": [
        "df_norm['clusterid'] = hc.labels_"
      ],
      "execution_count": null,
      "outputs": []
    },
    {
      "cell_type": "code",
      "metadata": {
        "colab": {
          "base_uri": "https://localhost:8080/",
          "height": 833
        },
        "id": "oF2WDXErgTQp",
        "outputId": "15589445-fe47-4f1e-d156-70579b7efb99"
      },
      "source": [
        "df_norm"
      ],
      "execution_count": null,
      "outputs": [
        {
          "output_type": "execute_result",
          "data": {
            "text/html": [
              "<div>\n",
              "<style scoped>\n",
              "    .dataframe tbody tr th:only-of-type {\n",
              "        vertical-align: middle;\n",
              "    }\n",
              "\n",
              "    .dataframe tbody tr th {\n",
              "        vertical-align: top;\n",
              "    }\n",
              "\n",
              "    .dataframe thead th {\n",
              "        text-align: right;\n",
              "    }\n",
              "</style>\n",
              "<table border=\"1\" class=\"dataframe\">\n",
              "  <thead>\n",
              "    <tr style=\"text-align: right;\">\n",
              "      <th></th>\n",
              "      <th>SAT</th>\n",
              "      <th>Top10</th>\n",
              "      <th>Accept</th>\n",
              "      <th>SFRatio</th>\n",
              "      <th>Expenses</th>\n",
              "      <th>GradRate</th>\n",
              "      <th>clusterid</th>\n",
              "    </tr>\n",
              "  </thead>\n",
              "  <tbody>\n",
              "    <tr>\n",
              "      <th>0</th>\n",
              "      <td>0.743902</td>\n",
              "      <td>0.847222</td>\n",
              "      <td>0.105263</td>\n",
              "      <td>0.368421</td>\n",
              "      <td>0.255144</td>\n",
              "      <td>0.900000</td>\n",
              "      <td>2</td>\n",
              "    </tr>\n",
              "    <tr>\n",
              "      <th>1</th>\n",
              "      <td>1.000000</td>\n",
              "      <td>1.000000</td>\n",
              "      <td>0.144737</td>\n",
              "      <td>0.000000</td>\n",
              "      <td>1.000000</td>\n",
              "      <td>0.466667</td>\n",
              "      <td>3</td>\n",
              "    </tr>\n",
              "    <tr>\n",
              "      <th>2</th>\n",
              "      <td>0.621951</td>\n",
              "      <td>0.472222</td>\n",
              "      <td>0.592105</td>\n",
              "      <td>0.157895</td>\n",
              "      <td>0.297461</td>\n",
              "      <td>0.166667</td>\n",
              "      <td>0</td>\n",
              "    </tr>\n",
              "    <tr>\n",
              "      <th>3</th>\n",
              "      <td>0.743902</td>\n",
              "      <td>0.666667</td>\n",
              "      <td>0.131579</td>\n",
              "      <td>0.315789</td>\n",
              "      <td>0.415629</td>\n",
              "      <td>0.700000</td>\n",
              "      <td>2</td>\n",
              "    </tr>\n",
              "    <tr>\n",
              "      <th>4</th>\n",
              "      <td>0.670732</td>\n",
              "      <td>0.763889</td>\n",
              "      <td>0.250000</td>\n",
              "      <td>0.368421</td>\n",
              "      <td>0.239835</td>\n",
              "      <td>0.766667</td>\n",
              "      <td>2</td>\n",
              "    </tr>\n",
              "    <tr>\n",
              "      <th>5</th>\n",
              "      <td>0.817073</td>\n",
              "      <td>0.847222</td>\n",
              "      <td>0.118421</td>\n",
              "      <td>0.210526</td>\n",
              "      <td>0.427512</td>\n",
              "      <td>0.933333</td>\n",
              "      <td>2</td>\n",
              "    </tr>\n",
              "    <tr>\n",
              "      <th>6</th>\n",
              "      <td>0.756098</td>\n",
              "      <td>0.861111</td>\n",
              "      <td>0.210526</td>\n",
              "      <td>0.315789</td>\n",
              "      <td>0.416996</td>\n",
              "      <td>0.933333</td>\n",
              "      <td>2</td>\n",
              "    </tr>\n",
              "    <tr>\n",
              "      <th>7</th>\n",
              "      <td>0.609756</td>\n",
              "      <td>0.638889</td>\n",
              "      <td>0.131579</td>\n",
              "      <td>0.315789</td>\n",
              "      <td>0.208161</td>\n",
              "      <td>0.833333</td>\n",
              "      <td>2</td>\n",
              "    </tr>\n",
              "    <tr>\n",
              "      <th>8</th>\n",
              "      <td>0.963415</td>\n",
              "      <td>0.875000</td>\n",
              "      <td>0.000000</td>\n",
              "      <td>0.263158</td>\n",
              "      <td>0.561699</td>\n",
              "      <td>1.000000</td>\n",
              "      <td>2</td>\n",
              "    </tr>\n",
              "    <tr>\n",
              "      <th>9</th>\n",
              "      <td>0.731707</td>\n",
              "      <td>0.652778</td>\n",
              "      <td>0.394737</td>\n",
              "      <td>0.052632</td>\n",
              "      <td>0.910991</td>\n",
              "      <td>0.666667</td>\n",
              "      <td>2</td>\n",
              "    </tr>\n",
              "    <tr>\n",
              "      <th>10</th>\n",
              "      <td>0.914634</td>\n",
              "      <td>0.916667</td>\n",
              "      <td>0.210526</td>\n",
              "      <td>0.210526</td>\n",
              "      <td>0.476864</td>\n",
              "      <td>0.800000</td>\n",
              "      <td>2</td>\n",
              "    </tr>\n",
              "    <tr>\n",
              "      <th>11</th>\n",
              "      <td>0.621951</td>\n",
              "      <td>0.791667</td>\n",
              "      <td>0.328947</td>\n",
              "      <td>0.263158</td>\n",
              "      <td>0.352609</td>\n",
              "      <td>0.733333</td>\n",
              "      <td>2</td>\n",
              "    </tr>\n",
              "    <tr>\n",
              "      <th>12</th>\n",
              "      <td>0.609756</td>\n",
              "      <td>0.736111</td>\n",
              "      <td>0.368421</td>\n",
              "      <td>0.368421</td>\n",
              "      <td>0.116965</td>\n",
              "      <td>0.900000</td>\n",
              "      <td>2</td>\n",
              "    </tr>\n",
              "    <tr>\n",
              "      <th>13</th>\n",
              "      <td>0.185366</td>\n",
              "      <td>0.138889</td>\n",
              "      <td>0.526316</td>\n",
              "      <td>0.631579</td>\n",
              "      <td>0.026991</td>\n",
              "      <td>0.433333</td>\n",
              "      <td>1</td>\n",
              "    </tr>\n",
              "    <tr>\n",
              "      <th>14</th>\n",
              "      <td>0.902439</td>\n",
              "      <td>0.875000</td>\n",
              "      <td>0.000000</td>\n",
              "      <td>0.105263</td>\n",
              "      <td>0.392120</td>\n",
              "      <td>0.933333</td>\n",
              "      <td>2</td>\n",
              "    </tr>\n",
              "    <tr>\n",
              "      <th>15</th>\n",
              "      <td>0.000000</td>\n",
              "      <td>0.000000</td>\n",
              "      <td>1.000000</td>\n",
              "      <td>0.684211</td>\n",
              "      <td>0.006597</td>\n",
              "      <td>0.066667</td>\n",
              "      <td>1</td>\n",
              "    </tr>\n",
              "    <tr>\n",
              "      <th>16</th>\n",
              "      <td>0.865854</td>\n",
              "      <td>0.861111</td>\n",
              "      <td>0.078947</td>\n",
              "      <td>0.315789</td>\n",
              "      <td>0.505659</td>\n",
              "      <td>0.866667</td>\n",
              "      <td>2</td>\n",
              "    </tr>\n",
              "    <tr>\n",
              "      <th>17</th>\n",
              "      <td>0.170732</td>\n",
              "      <td>0.291667</td>\n",
              "      <td>0.697368</td>\n",
              "      <td>1.000000</td>\n",
              "      <td>0.000000</td>\n",
              "      <td>0.000000</td>\n",
              "      <td>0</td>\n",
              "    </tr>\n",
              "    <tr>\n",
              "      <th>18</th>\n",
              "      <td>0.573171</td>\n",
              "      <td>0.930556</td>\n",
              "      <td>0.342105</td>\n",
              "      <td>0.578947</td>\n",
              "      <td>0.117293</td>\n",
              "      <td>0.366667</td>\n",
              "      <td>2</td>\n",
              "    </tr>\n",
              "    <tr>\n",
              "      <th>19</th>\n",
              "      <td>0.695122</td>\n",
              "      <td>0.652778</td>\n",
              "      <td>0.473684</td>\n",
              "      <td>0.368421</td>\n",
              "      <td>0.540832</td>\n",
              "      <td>0.666667</td>\n",
              "      <td>2</td>\n",
              "    </tr>\n",
              "    <tr>\n",
              "      <th>20</th>\n",
              "      <td>0.426829</td>\n",
              "      <td>0.513889</td>\n",
              "      <td>0.710526</td>\n",
              "      <td>0.526316</td>\n",
              "      <td>0.123307</td>\n",
              "      <td>0.600000</td>\n",
              "      <td>2</td>\n",
              "    </tr>\n",
              "    <tr>\n",
              "      <th>21</th>\n",
              "      <td>0.682927</td>\n",
              "      <td>0.722222</td>\n",
              "      <td>0.289474</td>\n",
              "      <td>0.263158</td>\n",
              "      <td>0.343515</td>\n",
              "      <td>0.766667</td>\n",
              "      <td>2</td>\n",
              "    </tr>\n",
              "    <tr>\n",
              "      <th>22</th>\n",
              "      <td>0.536585</td>\n",
              "      <td>0.680556</td>\n",
              "      <td>0.394737</td>\n",
              "      <td>0.421053</td>\n",
              "      <td>0.084653</td>\n",
              "      <td>0.833333</td>\n",
              "      <td>2</td>\n",
              "    </tr>\n",
              "    <tr>\n",
              "      <th>23</th>\n",
              "      <td>0.195122</td>\n",
              "      <td>0.166667</td>\n",
              "      <td>0.723684</td>\n",
              "      <td>0.473684</td>\n",
              "      <td>0.057462</td>\n",
              "      <td>0.133333</td>\n",
              "      <td>1</td>\n",
              "    </tr>\n",
              "    <tr>\n",
              "      <th>24</th>\n",
              "      <td>0.902439</td>\n",
              "      <td>0.930556</td>\n",
              "      <td>0.065789</td>\n",
              "      <td>0.263158</td>\n",
              "      <td>0.634397</td>\n",
              "      <td>0.966667</td>\n",
              "      <td>2</td>\n",
              "    </tr>\n",
              "  </tbody>\n",
              "</table>\n",
              "</div>"
            ],
            "text/plain": [
              "         SAT     Top10    Accept   SFRatio  Expenses  GradRate  clusterid\n",
              "0   0.743902  0.847222  0.105263  0.368421  0.255144  0.900000          2\n",
              "1   1.000000  1.000000  0.144737  0.000000  1.000000  0.466667          3\n",
              "2   0.621951  0.472222  0.592105  0.157895  0.297461  0.166667          0\n",
              "3   0.743902  0.666667  0.131579  0.315789  0.415629  0.700000          2\n",
              "4   0.670732  0.763889  0.250000  0.368421  0.239835  0.766667          2\n",
              "5   0.817073  0.847222  0.118421  0.210526  0.427512  0.933333          2\n",
              "6   0.756098  0.861111  0.210526  0.315789  0.416996  0.933333          2\n",
              "7   0.609756  0.638889  0.131579  0.315789  0.208161  0.833333          2\n",
              "8   0.963415  0.875000  0.000000  0.263158  0.561699  1.000000          2\n",
              "9   0.731707  0.652778  0.394737  0.052632  0.910991  0.666667          2\n",
              "10  0.914634  0.916667  0.210526  0.210526  0.476864  0.800000          2\n",
              "11  0.621951  0.791667  0.328947  0.263158  0.352609  0.733333          2\n",
              "12  0.609756  0.736111  0.368421  0.368421  0.116965  0.900000          2\n",
              "13  0.185366  0.138889  0.526316  0.631579  0.026991  0.433333          1\n",
              "14  0.902439  0.875000  0.000000  0.105263  0.392120  0.933333          2\n",
              "15  0.000000  0.000000  1.000000  0.684211  0.006597  0.066667          1\n",
              "16  0.865854  0.861111  0.078947  0.315789  0.505659  0.866667          2\n",
              "17  0.170732  0.291667  0.697368  1.000000  0.000000  0.000000          0\n",
              "18  0.573171  0.930556  0.342105  0.578947  0.117293  0.366667          2\n",
              "19  0.695122  0.652778  0.473684  0.368421  0.540832  0.666667          2\n",
              "20  0.426829  0.513889  0.710526  0.526316  0.123307  0.600000          2\n",
              "21  0.682927  0.722222  0.289474  0.263158  0.343515  0.766667          2\n",
              "22  0.536585  0.680556  0.394737  0.421053  0.084653  0.833333          2\n",
              "23  0.195122  0.166667  0.723684  0.473684  0.057462  0.133333          1\n",
              "24  0.902439  0.930556  0.065789  0.263158  0.634397  0.966667          2"
            ]
          },
          "metadata": {},
          "execution_count": 41
        }
      ]
    },
    {
      "cell_type": "code",
      "metadata": {
        "id": "TIResL4MBfD-"
      },
      "source": [
        "Univ1=df_norm"
      ],
      "execution_count": null,
      "outputs": []
    },
    {
      "cell_type": "code",
      "metadata": {
        "colab": {
          "base_uri": "https://localhost:8080/",
          "height": 206
        },
        "id": "JNXZiSGOAwyz",
        "outputId": "dd01fffc-5853-4270-96ab-0ddb5ac36b16"
      },
      "source": [
        "# Group data by Clusters (K=5)\n",
        "Univ1.groupby('clusterid').agg(['mean']).reset_index()"
      ],
      "execution_count": null,
      "outputs": [
        {
          "output_type": "execute_result",
          "data": {
            "text/html": [
              "<div>\n",
              "<style scoped>\n",
              "    .dataframe tbody tr th:only-of-type {\n",
              "        vertical-align: middle;\n",
              "    }\n",
              "\n",
              "    .dataframe tbody tr th {\n",
              "        vertical-align: top;\n",
              "    }\n",
              "\n",
              "    .dataframe thead tr th {\n",
              "        text-align: left;\n",
              "    }\n",
              "</style>\n",
              "<table border=\"1\" class=\"dataframe\">\n",
              "  <thead>\n",
              "    <tr>\n",
              "      <th></th>\n",
              "      <th>clusterid</th>\n",
              "      <th>SAT</th>\n",
              "      <th>Top10</th>\n",
              "      <th>Accept</th>\n",
              "      <th>SFRatio</th>\n",
              "      <th>Expenses</th>\n",
              "      <th>GradRate</th>\n",
              "    </tr>\n",
              "    <tr>\n",
              "      <th></th>\n",
              "      <th></th>\n",
              "      <th>mean</th>\n",
              "      <th>mean</th>\n",
              "      <th>mean</th>\n",
              "      <th>mean</th>\n",
              "      <th>mean</th>\n",
              "      <th>mean</th>\n",
              "    </tr>\n",
              "  </thead>\n",
              "  <tbody>\n",
              "    <tr>\n",
              "      <th>0</th>\n",
              "      <td>0</td>\n",
              "      <td>0.396341</td>\n",
              "      <td>0.381944</td>\n",
              "      <td>0.644737</td>\n",
              "      <td>0.578947</td>\n",
              "      <td>0.148731</td>\n",
              "      <td>0.083333</td>\n",
              "    </tr>\n",
              "    <tr>\n",
              "      <th>1</th>\n",
              "      <td>1</td>\n",
              "      <td>0.126829</td>\n",
              "      <td>0.101852</td>\n",
              "      <td>0.750000</td>\n",
              "      <td>0.596491</td>\n",
              "      <td>0.030350</td>\n",
              "      <td>0.211111</td>\n",
              "    </tr>\n",
              "    <tr>\n",
              "      <th>2</th>\n",
              "      <td>2</td>\n",
              "      <td>0.724647</td>\n",
              "      <td>0.777047</td>\n",
              "      <td>0.242382</td>\n",
              "      <td>0.310249</td>\n",
              "      <td>0.374957</td>\n",
              "      <td>0.798246</td>\n",
              "    </tr>\n",
              "    <tr>\n",
              "      <th>3</th>\n",
              "      <td>3</td>\n",
              "      <td>1.000000</td>\n",
              "      <td>1.000000</td>\n",
              "      <td>0.144737</td>\n",
              "      <td>0.000000</td>\n",
              "      <td>1.000000</td>\n",
              "      <td>0.466667</td>\n",
              "    </tr>\n",
              "  </tbody>\n",
              "</table>\n",
              "</div>"
            ],
            "text/plain": [
              "  clusterid       SAT     Top10    Accept   SFRatio  Expenses  GradRate\n",
              "                 mean      mean      mean      mean      mean      mean\n",
              "0         0  0.396341  0.381944  0.644737  0.578947  0.148731  0.083333\n",
              "1         1  0.126829  0.101852  0.750000  0.596491  0.030350  0.211111\n",
              "2         2  0.724647  0.777047  0.242382  0.310249  0.374957  0.798246\n",
              "3         3  1.000000  1.000000  0.144737  0.000000  1.000000  0.466667"
            ]
          },
          "metadata": {},
          "execution_count": 43
        }
      ]
    },
    {
      "cell_type": "code",
      "metadata": {
        "colab": {
          "base_uri": "https://localhost:8080/",
          "height": 446
        },
        "id": "yeV_g2ku_Gae",
        "outputId": "f9e1947d-13a1-428d-a858-db8d7962cdf4"
      },
      "source": [
        "# Plot Clusters\n",
        "plt.figure(figsize=(10, 7))  \n",
        "plt.scatter(Univ1['clusterid'],Univ['SAT'], c=hc.labels_) "
      ],
      "execution_count": null,
      "outputs": [
        {
          "output_type": "execute_result",
          "data": {
            "text/plain": [
              "<matplotlib.collections.PathCollection at 0x7f44aa365e50>"
            ]
          },
          "metadata": {},
          "execution_count": 44
        },
        {
          "output_type": "display_data",
          "data": {
            "image/png": "[encoded data removed]",
            "text/plain": [
              "<Figure size 720x504 with 1 Axes>"
            ]
          },
          "metadata": {
            "needs_background": "light"
          }
        }
      ]
    },
    {
      "cell_type": "code",
      "metadata": {
        "colab": {
          "base_uri": "https://localhost:8080/",
          "height": 833
        },
        "id": "V1zJagT-_Q5y",
        "outputId": "8f3dcccb-bad0-45c9-e5a4-af53ed134070"
      },
      "source": [
        "y=pd.DataFrame(hc.fit_predict(df_norm),columns=['clusters'])\n",
        "y"
      ],
      "execution_count": null,
      "outputs": [
        {
          "output_type": "execute_result",
          "data": {
            "text/html": [
              "<div>\n",
              "<style scoped>\n",
              "    .dataframe tbody tr th:only-of-type {\n",
              "        vertical-align: middle;\n",
              "    }\n",
              "\n",
              "    .dataframe tbody tr th {\n",
              "        vertical-align: top;\n",
              "    }\n",
              "\n",
              "    .dataframe thead th {\n",
              "        text-align: right;\n",
              "    }\n",
              "</style>\n",
              "<table border=\"1\" class=\"dataframe\">\n",
              "  <thead>\n",
              "    <tr style=\"text-align: right;\">\n",
              "      <th></th>\n",
              "      <th>clusters</th>\n",
              "    </tr>\n",
              "  </thead>\n",
              "  <tbody>\n",
              "    <tr>\n",
              "      <th>0</th>\n",
              "      <td>0</td>\n",
              "    </tr>\n",
              "    <tr>\n",
              "      <th>1</th>\n",
              "      <td>2</td>\n",
              "    </tr>\n",
              "    <tr>\n",
              "      <th>2</th>\n",
              "      <td>1</td>\n",
              "    </tr>\n",
              "    <tr>\n",
              "      <th>3</th>\n",
              "      <td>0</td>\n",
              "    </tr>\n",
              "    <tr>\n",
              "      <th>4</th>\n",
              "      <td>0</td>\n",
              "    </tr>\n",
              "    <tr>\n",
              "      <th>5</th>\n",
              "      <td>0</td>\n",
              "    </tr>\n",
              "    <tr>\n",
              "      <th>6</th>\n",
              "      <td>0</td>\n",
              "    </tr>\n",
              "    <tr>\n",
              "      <th>7</th>\n",
              "      <td>0</td>\n",
              "    </tr>\n",
              "    <tr>\n",
              "      <th>8</th>\n",
              "      <td>0</td>\n",
              "    </tr>\n",
              "    <tr>\n",
              "      <th>9</th>\n",
              "      <td>0</td>\n",
              "    </tr>\n",
              "    <tr>\n",
              "      <th>10</th>\n",
              "      <td>0</td>\n",
              "    </tr>\n",
              "    <tr>\n",
              "      <th>11</th>\n",
              "      <td>0</td>\n",
              "    </tr>\n",
              "    <tr>\n",
              "      <th>12</th>\n",
              "      <td>0</td>\n",
              "    </tr>\n",
              "    <tr>\n",
              "      <th>13</th>\n",
              "      <td>3</td>\n",
              "    </tr>\n",
              "    <tr>\n",
              "      <th>14</th>\n",
              "      <td>0</td>\n",
              "    </tr>\n",
              "    <tr>\n",
              "      <th>15</th>\n",
              "      <td>3</td>\n",
              "    </tr>\n",
              "    <tr>\n",
              "      <th>16</th>\n",
              "      <td>0</td>\n",
              "    </tr>\n",
              "    <tr>\n",
              "      <th>17</th>\n",
              "      <td>1</td>\n",
              "    </tr>\n",
              "    <tr>\n",
              "      <th>18</th>\n",
              "      <td>0</td>\n",
              "    </tr>\n",
              "    <tr>\n",
              "      <th>19</th>\n",
              "      <td>0</td>\n",
              "    </tr>\n",
              "    <tr>\n",
              "      <th>20</th>\n",
              "      <td>0</td>\n",
              "    </tr>\n",
              "    <tr>\n",
              "      <th>21</th>\n",
              "      <td>0</td>\n",
              "    </tr>\n",
              "    <tr>\n",
              "      <th>22</th>\n",
              "      <td>0</td>\n",
              "    </tr>\n",
              "    <tr>\n",
              "      <th>23</th>\n",
              "      <td>3</td>\n",
              "    </tr>\n",
              "    <tr>\n",
              "      <th>24</th>\n",
              "      <td>0</td>\n",
              "    </tr>\n",
              "  </tbody>\n",
              "</table>\n",
              "</div>"
            ],
            "text/plain": [
              "    clusters\n",
              "0          0\n",
              "1          2\n",
              "2          1\n",
              "3          0\n",
              "4          0\n",
              "5          0\n",
              "6          0\n",
              "7          0\n",
              "8          0\n",
              "9          0\n",
              "10         0\n",
              "11         0\n",
              "12         0\n",
              "13         3\n",
              "14         0\n",
              "15         3\n",
              "16         0\n",
              "17         1\n",
              "18         0\n",
              "19         0\n",
              "20         0\n",
              "21         0\n",
              "22         0\n",
              "23         3\n",
              "24         0"
            ]
          },
          "metadata": {},
          "execution_count": 45
        }
      ]
    },
    {
      "cell_type": "code",
      "metadata": {
        "id": "e2D0jPvDDg2h"
      },
      "source": [
        ""
      ],
      "execution_count": null,
      "outputs": []
    }
  ]
}